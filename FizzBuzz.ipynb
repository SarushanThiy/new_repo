{
  "nbformat": 4,
  "nbformat_minor": 0,
  "metadata": {
    "colab": {
      "provenance": [],
      "authorship_tag": "ABX9TyO1iPybY+Z7ywdZbreBwA7R",
      "include_colab_link": true
    },
    "kernelspec": {
      "name": "python3",
      "display_name": "Python 3"
    },
    "language_info": {
      "name": "python"
    }
  },
  "cells": [
    {
      "cell_type": "markdown",
      "metadata": {
        "id": "view-in-github",
        "colab_type": "text"
      },
      "source": [
        "<a href=\"https://colab.research.google.com/github/SarushanThiy/new_repo/blob/main/FizzBuzz.ipynb\" target=\"_parent\"><img src=\"https://colab.research.google.com/assets/colab-badge.svg\" alt=\"Open In Colab\"/></a>"
      ]
    },
    {
      "cell_type": "code",
      "execution_count": 1,
      "metadata": {
        "id": "lgYDBJxkamtc"
      },
      "outputs": [],
      "source": [
        "def fizzBuzz(n):\n",
        "  result = []\n",
        "\n",
        "  if not n % (3*5):\n",
        "    result.append('FizzBuzz')\n",
        "  elif not n % 3:\n",
        "    result.append('Fizz')\n",
        "  elif not n % 5:\n",
        "    result.append('Buzz')\n",
        "  else:\n",
        "    result.append(n)\n",
        "  print(result)"
      ]
    },
    {
      "cell_type": "code",
      "source": [
        "fizzBuzz(15)"
      ],
      "metadata": {
        "colab": {
          "base_uri": "https://localhost:8080/"
        },
        "id": "Evnd-UmQbBRk",
        "outputId": "10c30ea3-945b-4e51-a7c7-ca8c24ae2ace"
      },
      "execution_count": 3,
      "outputs": [
        {
          "output_type": "stream",
          "name": "stdout",
          "text": [
            "['FizzBuzz']\n"
          ]
        }
      ]
    }
  ]
}